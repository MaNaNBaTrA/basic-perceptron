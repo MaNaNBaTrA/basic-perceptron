{
  "nbformat": 4,
  "nbformat_minor": 0,
  "metadata": {
    "colab": {
      "provenance": []
    },
    "kernelspec": {
      "name": "python3",
      "display_name": "Python 3"
    },
    "language_info": {
      "name": "python"
    }
  },
  "cells": [
    {
      "cell_type": "code",
      "execution_count": null,
      "metadata": {
        "id": "E4ynFYAwt8Cb"
      },
      "outputs": [],
      "source": [
        "from sklearn.datasets import make_classification"
      ]
    },
    {
      "cell_type": "code",
      "source": [
        "x,y = make_classification(n_samples=100,n_features=2,n_informative=1,n_redundant=0,n_classes=2,n_clusters_per_class=1,random_state=41,hypercube=False,class_sep=10)"
      ],
      "metadata": {
        "id": "oeh5aduvuffs"
      },
      "execution_count": null,
      "outputs": []
    },
    {
      "cell_type": "code",
      "source": [
        "x"
      ],
      "metadata": {
        "colab": {
          "base_uri": "https://localhost:8080/"
        },
        "collapsed": true,
        "id": "Bj9xuTsZx8EP",
        "outputId": "2b33d895-4d72-4651-e2b3-d409089eac09"
      },
      "execution_count": null,
      "outputs": [
        {
          "output_type": "execute_result",
          "data": {
            "text/plain": [
              "array([[ 0.19924745, -0.11697552],\n",
              "       [-0.24882029, -0.73115232],\n",
              "       [-0.3544904 , -0.7081059 ],\n",
              "       [-1.59086506, -2.01199214],\n",
              "       [-0.20083951,  1.63493163],\n",
              "       [-0.83241122,  0.15599044],\n",
              "       [-1.79207014,  1.07782053],\n",
              "       [ 0.0856607 ,  0.80626713],\n",
              "       [-0.55865299,  0.74859527],\n",
              "       [-1.95974262,  0.75152794],\n",
              "       [-1.77828947, -0.90114581],\n",
              "       [-1.77985853, -0.1815243 ],\n",
              "       [-0.02194151, -2.98092432],\n",
              "       [ 0.80563431,  1.20500136],\n",
              "       [-1.82701214,  0.78302407],\n",
              "       [ 0.38730728,  0.42968688],\n",
              "       [-0.14108668, -0.73229726],\n",
              "       [-1.87955941, -0.83930476],\n",
              "       [-0.18232911,  0.83727062],\n",
              "       [-1.77059533, -0.10255323],\n",
              "       [-2.27658028,  0.65867001],\n",
              "       [-2.06519502,  0.92649819],\n",
              "       [-1.31690551,  0.10216193],\n",
              "       [ 1.61043259,  0.46886454],\n",
              "       [-1.21650394,  0.45432938],\n",
              "       [ 0.6139723 ,  1.8613386 ],\n",
              "       [-1.78760957, -0.79255991],\n",
              "       [-1.04149161, -1.0004391 ],\n",
              "       [-2.40067584, -0.53814137],\n",
              "       [-1.80383452,  0.44027716],\n",
              "       [-1.44075613,  0.27047889],\n",
              "       [ 1.34989978, -0.75869267],\n",
              "       [ 0.22520167,  0.6802322 ],\n",
              "       [ 0.53688527,  0.17018845],\n",
              "       [ 0.55483459, -1.01121977],\n",
              "       [-0.32178185, -0.8394709 ],\n",
              "       [-0.98821248,  0.90327412],\n",
              "       [ 0.67394805,  1.16981747],\n",
              "       [-1.60913592,  0.53461406],\n",
              "       [ 0.75727194, -0.22100631],\n",
              "       [-1.32591376, -0.64584571],\n",
              "       [-0.91783293,  0.21243302],\n",
              "       [-1.35578147,  0.98654083],\n",
              "       [ 1.46869659,  0.67382928],\n",
              "       [-0.80540713, -0.11323563],\n",
              "       [ 1.08059816,  0.91694693],\n",
              "       [ 0.14667326,  0.3645213 ],\n",
              "       [-1.37324548, -0.78470874],\n",
              "       [-1.09742089, -1.48004137],\n",
              "       [-0.92017476,  0.72931763],\n",
              "       [ 0.22020513, -0.60000139],\n",
              "       [-0.3515292 ,  0.14720034],\n",
              "       [-1.42135667,  0.35215601],\n",
              "       [ 0.94415309,  0.17388705],\n",
              "       [ 2.14488191, -0.17162755],\n",
              "       [-1.52699536,  0.03763193],\n",
              "       [ 1.0347932 ,  0.48360467],\n",
              "       [-2.05551135, -0.07909256],\n",
              "       [-1.33241395,  0.06158897],\n",
              "       [-0.10615042, -1.20413846],\n",
              "       [ 0.89910594,  0.77324391],\n",
              "       [-1.32152694,  0.7640092 ],\n",
              "       [-1.96489671,  1.57200032],\n",
              "       [ 0.97099786,  0.47296516],\n",
              "       [ 0.0520771 ,  0.0642074 ],\n",
              "       [-0.66393984,  1.52469135],\n",
              "       [-1.8937672 , -2.1450828 ],\n",
              "       [ 0.5941446 , -0.7701428 ],\n",
              "       [-1.55261523,  0.84455766],\n",
              "       [-0.9998803 ,  1.29753064],\n",
              "       [-2.39664251, -0.84276652],\n",
              "       [ 0.27537438,  2.0615874 ],\n",
              "       [ 1.0723376 , -0.3036533 ],\n",
              "       [-1.4577388 , -0.1656085 ],\n",
              "       [ 1.06667457,  1.16969713],\n",
              "       [ 0.67498344, -0.3038555 ],\n",
              "       [-2.18254559, -0.4788978 ],\n",
              "       [ 0.96395115,  0.28128262],\n",
              "       [-1.3155857 ,  0.70412341],\n",
              "       [ 0.7158603 ,  0.3757601 ],\n",
              "       [-0.16186654,  0.97247545],\n",
              "       [ 1.341869  ,  0.56868381],\n",
              "       [-1.46023043, -0.39767934],\n",
              "       [ 1.37645492, -1.08933729],\n",
              "       [-0.35770727, -1.81663939],\n",
              "       [-1.8640534 ,  1.41775924],\n",
              "       [-1.7826468 ,  0.27098296],\n",
              "       [-1.18927817, -0.56186639],\n",
              "       [ 0.26654845,  0.42168159],\n",
              "       [-1.28809059, -2.95373116],\n",
              "       [ 0.75163482,  0.19492133],\n",
              "       [ 1.16254252, -0.04578681],\n",
              "       [-1.15890056, -0.18860967],\n",
              "       [-1.48693688,  0.44635682],\n",
              "       [ 0.75292818, -1.49814775],\n",
              "       [-2.12332717,  0.66198774],\n",
              "       [-1.53599817,  0.07153265],\n",
              "       [-1.46034714,  0.32323638],\n",
              "       [ 0.83626582, -0.34574201],\n",
              "       [-0.26570627,  0.06499922]])"
            ]
          },
          "metadata": {},
          "execution_count": 102
        }
      ]
    },
    {
      "cell_type": "code",
      "source": [
        "y"
      ],
      "metadata": {
        "colab": {
          "base_uri": "https://localhost:8080/"
        },
        "collapsed": true,
        "id": "ePRxFH4bx9bn",
        "outputId": "6bf76380-8c94-4e60-f341-9637f5129e93"
      },
      "execution_count": null,
      "outputs": [
        {
          "output_type": "execute_result",
          "data": {
            "text/plain": [
              "array([1, 1, 1, 0, 1, 0, 0, 1, 1, 0, 0, 0, 1, 1, 0, 1, 1, 0, 1, 0, 0, 0,\n",
              "       0, 1, 0, 1, 0, 0, 0, 0, 0, 1, 1, 1, 1, 1, 0, 1, 0, 1, 0, 0, 0, 1,\n",
              "       0, 1, 1, 0, 0, 0, 1, 1, 0, 1, 1, 0, 1, 0, 0, 1, 1, 0, 0, 1, 1, 1,\n",
              "       0, 1, 0, 0, 0, 1, 1, 0, 1, 1, 0, 1, 0, 1, 1, 1, 0, 1, 1, 0, 0, 0,\n",
              "       1, 0, 1, 1, 0, 0, 1, 0, 0, 0, 1, 1])"
            ]
          },
          "metadata": {},
          "execution_count": 103
        }
      ]
    },
    {
      "cell_type": "code",
      "source": [
        "x,y"
      ],
      "metadata": {
        "colab": {
          "base_uri": "https://localhost:8080/"
        },
        "collapsed": true,
        "id": "iRiyQnopx-iu",
        "outputId": "c537aff2-8fde-4251-f6f4-b5b8d8e84f0c"
      },
      "execution_count": null,
      "outputs": [
        {
          "output_type": "execute_result",
          "data": {
            "text/plain": [
              "(array([[ 0.19924745, -0.11697552],\n",
              "        [-0.24882029, -0.73115232],\n",
              "        [-0.3544904 , -0.7081059 ],\n",
              "        [-1.59086506, -2.01199214],\n",
              "        [-0.20083951,  1.63493163],\n",
              "        [-0.83241122,  0.15599044],\n",
              "        [-1.79207014,  1.07782053],\n",
              "        [ 0.0856607 ,  0.80626713],\n",
              "        [-0.55865299,  0.74859527],\n",
              "        [-1.95974262,  0.75152794],\n",
              "        [-1.77828947, -0.90114581],\n",
              "        [-1.77985853, -0.1815243 ],\n",
              "        [-0.02194151, -2.98092432],\n",
              "        [ 0.80563431,  1.20500136],\n",
              "        [-1.82701214,  0.78302407],\n",
              "        [ 0.38730728,  0.42968688],\n",
              "        [-0.14108668, -0.73229726],\n",
              "        [-1.87955941, -0.83930476],\n",
              "        [-0.18232911,  0.83727062],\n",
              "        [-1.77059533, -0.10255323],\n",
              "        [-2.27658028,  0.65867001],\n",
              "        [-2.06519502,  0.92649819],\n",
              "        [-1.31690551,  0.10216193],\n",
              "        [ 1.61043259,  0.46886454],\n",
              "        [-1.21650394,  0.45432938],\n",
              "        [ 0.6139723 ,  1.8613386 ],\n",
              "        [-1.78760957, -0.79255991],\n",
              "        [-1.04149161, -1.0004391 ],\n",
              "        [-2.40067584, -0.53814137],\n",
              "        [-1.80383452,  0.44027716],\n",
              "        [-1.44075613,  0.27047889],\n",
              "        [ 1.34989978, -0.75869267],\n",
              "        [ 0.22520167,  0.6802322 ],\n",
              "        [ 0.53688527,  0.17018845],\n",
              "        [ 0.55483459, -1.01121977],\n",
              "        [-0.32178185, -0.8394709 ],\n",
              "        [-0.98821248,  0.90327412],\n",
              "        [ 0.67394805,  1.16981747],\n",
              "        [-1.60913592,  0.53461406],\n",
              "        [ 0.75727194, -0.22100631],\n",
              "        [-1.32591376, -0.64584571],\n",
              "        [-0.91783293,  0.21243302],\n",
              "        [-1.35578147,  0.98654083],\n",
              "        [ 1.46869659,  0.67382928],\n",
              "        [-0.80540713, -0.11323563],\n",
              "        [ 1.08059816,  0.91694693],\n",
              "        [ 0.14667326,  0.3645213 ],\n",
              "        [-1.37324548, -0.78470874],\n",
              "        [-1.09742089, -1.48004137],\n",
              "        [-0.92017476,  0.72931763],\n",
              "        [ 0.22020513, -0.60000139],\n",
              "        [-0.3515292 ,  0.14720034],\n",
              "        [-1.42135667,  0.35215601],\n",
              "        [ 0.94415309,  0.17388705],\n",
              "        [ 2.14488191, -0.17162755],\n",
              "        [-1.52699536,  0.03763193],\n",
              "        [ 1.0347932 ,  0.48360467],\n",
              "        [-2.05551135, -0.07909256],\n",
              "        [-1.33241395,  0.06158897],\n",
              "        [-0.10615042, -1.20413846],\n",
              "        [ 0.89910594,  0.77324391],\n",
              "        [-1.32152694,  0.7640092 ],\n",
              "        [-1.96489671,  1.57200032],\n",
              "        [ 0.97099786,  0.47296516],\n",
              "        [ 0.0520771 ,  0.0642074 ],\n",
              "        [-0.66393984,  1.52469135],\n",
              "        [-1.8937672 , -2.1450828 ],\n",
              "        [ 0.5941446 , -0.7701428 ],\n",
              "        [-1.55261523,  0.84455766],\n",
              "        [-0.9998803 ,  1.29753064],\n",
              "        [-2.39664251, -0.84276652],\n",
              "        [ 0.27537438,  2.0615874 ],\n",
              "        [ 1.0723376 , -0.3036533 ],\n",
              "        [-1.4577388 , -0.1656085 ],\n",
              "        [ 1.06667457,  1.16969713],\n",
              "        [ 0.67498344, -0.3038555 ],\n",
              "        [-2.18254559, -0.4788978 ],\n",
              "        [ 0.96395115,  0.28128262],\n",
              "        [-1.3155857 ,  0.70412341],\n",
              "        [ 0.7158603 ,  0.3757601 ],\n",
              "        [-0.16186654,  0.97247545],\n",
              "        [ 1.341869  ,  0.56868381],\n",
              "        [-1.46023043, -0.39767934],\n",
              "        [ 1.37645492, -1.08933729],\n",
              "        [-0.35770727, -1.81663939],\n",
              "        [-1.8640534 ,  1.41775924],\n",
              "        [-1.7826468 ,  0.27098296],\n",
              "        [-1.18927817, -0.56186639],\n",
              "        [ 0.26654845,  0.42168159],\n",
              "        [-1.28809059, -2.95373116],\n",
              "        [ 0.75163482,  0.19492133],\n",
              "        [ 1.16254252, -0.04578681],\n",
              "        [-1.15890056, -0.18860967],\n",
              "        [-1.48693688,  0.44635682],\n",
              "        [ 0.75292818, -1.49814775],\n",
              "        [-2.12332717,  0.66198774],\n",
              "        [-1.53599817,  0.07153265],\n",
              "        [-1.46034714,  0.32323638],\n",
              "        [ 0.83626582, -0.34574201],\n",
              "        [-0.26570627,  0.06499922]]),\n",
              " array([1, 1, 1, 0, 1, 0, 0, 1, 1, 0, 0, 0, 1, 1, 0, 1, 1, 0, 1, 0, 0, 0,\n",
              "        0, 1, 0, 1, 0, 0, 0, 0, 0, 1, 1, 1, 1, 1, 0, 1, 0, 1, 0, 0, 0, 1,\n",
              "        0, 1, 1, 0, 0, 0, 1, 1, 0, 1, 1, 0, 1, 0, 0, 1, 1, 0, 0, 1, 1, 1,\n",
              "        0, 1, 0, 0, 0, 1, 1, 0, 1, 1, 0, 1, 0, 1, 1, 1, 0, 1, 1, 0, 0, 0,\n",
              "        1, 0, 1, 1, 0, 0, 1, 0, 0, 0, 1, 1]))"
            ]
          },
          "metadata": {},
          "execution_count": 104
        }
      ]
    },
    {
      "cell_type": "code",
      "source": [
        "import matplotlib.pyplot as plt\n",
        "plt.figure(figsize=(10,6))\n",
        "plt.scatter(x[:,0],x[:,-1],c=y,cmap='winter',s=100)\n"
      ],
      "metadata": {
        "colab": {
          "base_uri": "https://localhost:8080/",
          "height": 444
        },
        "id": "7NlICtDJx_xX",
        "outputId": "8645bc00-b055-4e8f-bb35-15e5f2c4d71c"
      },
      "execution_count": null,
      "outputs": [
        {
          "output_type": "execute_result",
          "data": {
            "text/plain": [
              "<matplotlib.collections.PathCollection at 0x7a42dcf12210>"
            ]
          },
          "metadata": {},
          "execution_count": 105
        },
        {
          "output_type": "display_data",
          "data": {
            "text/plain": [
              "<Figure size 1000x600 with 1 Axes>"
            ],
            "image/png": "[encoded data removed]"
          },
          "metadata": {}
        }
      ]
    },
    {
      "cell_type": "code",
      "source": [
        "import numpy as np"
      ],
      "metadata": {
        "id": "1Oys55p2zkGy"
      },
      "execution_count": null,
      "outputs": []
    },
    {
      "cell_type": "code",
      "source": [
        "def perceptron(x,y):\n",
        "  x= np.insert(x,0,1,axis=1)\n",
        "  weights = np.ones(x.shape[1])\n",
        "  lr = 0.1\n",
        "\n",
        "  for i in range(1000):\n",
        "    j=np.random.randint(0,100)\n",
        "    y_hat = step(np.dot(x[j],weights))\n",
        "    weights = weights +  lr*(y[j]-y_hat)*x[j]\n",
        "\n",
        "\n",
        "  return weights[0],weights[1:]\n"
      ],
      "metadata": {
        "id": "HcB9U9EDziIa"
      },
      "execution_count": null,
      "outputs": []
    },
    {
      "cell_type": "code",
      "source": [
        "def step(z):\n",
        "  return 1 if z>0 else 0"
      ],
      "metadata": {
        "id": "Vsh-oK3W1t1p"
      },
      "execution_count": null,
      "outputs": []
    },
    {
      "cell_type": "code",
      "source": [
        "intercept_,coef_ = perceptron(x,y)\n"
      ],
      "metadata": {
        "id": "tN4_k2HQ21qO"
      },
      "execution_count": null,
      "outputs": []
    },
    {
      "cell_type": "code",
      "source": [
        "intercept_,coef_"
      ],
      "metadata": {
        "colab": {
          "base_uri": "https://localhost:8080/"
        },
        "id": "p0JQLGZ04CG9",
        "outputId": "c73e9b40-cd6d-47e4-f429-6f718de693d8"
      },
      "execution_count": null,
      "outputs": [
        {
          "output_type": "execute_result",
          "data": {
            "text/plain": [
              "(np.float64(1.0), array([1.33949589, 0.19120695]))"
            ]
          },
          "metadata": {},
          "execution_count": 110
        }
      ]
    },
    {
      "cell_type": "code",
      "source": [
        "print(intercept_)\n",
        "print(coef_)"
      ],
      "metadata": {
        "colab": {
          "base_uri": "https://localhost:8080/"
        },
        "id": "0VKTdZfs4FV2",
        "outputId": "a1ca2c65-42f1-4db4-ebb7-a9fcdaecfebc"
      },
      "execution_count": null,
      "outputs": [
        {
          "output_type": "stream",
          "name": "stdout",
          "text": [
            "1.0\n",
            "[1.33949589 0.19120695]\n"
          ]
        }
      ]
    },
    {
      "cell_type": "code",
      "source": [
        "m = -(coef_[0]/coef_[1])\n",
        "m"
      ],
      "metadata": {
        "colab": {
          "base_uri": "https://localhost:8080/"
        },
        "id": "JRd7fdx14MN_",
        "outputId": "594abaa6-5d13-4e78-aeee-fa96a5adb0de"
      },
      "execution_count": null,
      "outputs": [
        {
          "output_type": "execute_result",
          "data": {
            "text/plain": [
              "np.float64(-7.005476990778569)"
            ]
          },
          "metadata": {},
          "execution_count": 112
        }
      ]
    },
    {
      "cell_type": "code",
      "source": [
        "c = -(intercept_/coef_[1])\n",
        "c"
      ],
      "metadata": {
        "colab": {
          "base_uri": "https://localhost:8080/"
        },
        "id": "SKR2F4166Eq_",
        "outputId": "a56afd9e-633c-4b6e-ce07-c282b7b09dc8"
      },
      "execution_count": null,
      "outputs": [
        {
          "output_type": "execute_result",
          "data": {
            "text/plain": [
              "np.float64(-5.2299354122926625)"
            ]
          },
          "metadata": {},
          "execution_count": 113
        }
      ]
    },
    {
      "cell_type": "code",
      "source": [
        "x_input = np.linspace(-3,3,100)"
      ],
      "metadata": {
        "id": "ibfNowuB7b1i"
      },
      "execution_count": null,
      "outputs": []
    },
    {
      "cell_type": "code",
      "source": [
        "y_input = m*x_input + c"
      ],
      "metadata": {
        "id": "JVfKNmnL7i2D"
      },
      "execution_count": null,
      "outputs": []
    },
    {
      "cell_type": "code",
      "source": [
        "x_input"
      ],
      "metadata": {
        "colab": {
          "base_uri": "https://localhost:8080/"
        },
        "id": "_3_RYIZn7xuk",
        "outputId": "14b7bcc0-4c62-43f5-cf23-88d71c405699"
      },
      "execution_count": null,
      "outputs": [
        {
          "output_type": "execute_result",
          "data": {
            "text/plain": [
              "array([-3.        , -2.93939394, -2.87878788, -2.81818182, -2.75757576,\n",
              "       -2.6969697 , -2.63636364, -2.57575758, -2.51515152, -2.45454545,\n",
              "       -2.39393939, -2.33333333, -2.27272727, -2.21212121, -2.15151515,\n",
              "       -2.09090909, -2.03030303, -1.96969697, -1.90909091, -1.84848485,\n",
              "       -1.78787879, -1.72727273, -1.66666667, -1.60606061, -1.54545455,\n",
              "       -1.48484848, -1.42424242, -1.36363636, -1.3030303 , -1.24242424,\n",
              "       -1.18181818, -1.12121212, -1.06060606, -1.        , -0.93939394,\n",
              "       -0.87878788, -0.81818182, -0.75757576, -0.6969697 , -0.63636364,\n",
              "       -0.57575758, -0.51515152, -0.45454545, -0.39393939, -0.33333333,\n",
              "       -0.27272727, -0.21212121, -0.15151515, -0.09090909, -0.03030303,\n",
              "        0.03030303,  0.09090909,  0.15151515,  0.21212121,  0.27272727,\n",
              "        0.33333333,  0.39393939,  0.45454545,  0.51515152,  0.57575758,\n",
              "        0.63636364,  0.6969697 ,  0.75757576,  0.81818182,  0.87878788,\n",
              "        0.93939394,  1.        ,  1.06060606,  1.12121212,  1.18181818,\n",
              "        1.24242424,  1.3030303 ,  1.36363636,  1.42424242,  1.48484848,\n",
              "        1.54545455,  1.60606061,  1.66666667,  1.72727273,  1.78787879,\n",
              "        1.84848485,  1.90909091,  1.96969697,  2.03030303,  2.09090909,\n",
              "        2.15151515,  2.21212121,  2.27272727,  2.33333333,  2.39393939,\n",
              "        2.45454545,  2.51515152,  2.57575758,  2.63636364,  2.6969697 ,\n",
              "        2.75757576,  2.81818182,  2.87878788,  2.93939394,  3.        ])"
            ]
          },
          "metadata": {},
          "execution_count": 116
        }
      ]
    },
    {
      "cell_type": "code",
      "source": [
        "plt.figure(figsize=(10,6))\n",
        "plt.plot(x_input,y_input,color='red',linewidth=3)\n",
        "plt.scatter(x[:,0],x[:,1],c=y,cmap='winter',s=100)\n",
        "plt.ylim(-3,2)"
      ],
      "metadata": {
        "colab": {
          "base_uri": "https://localhost:8080/",
          "height": 449
        },
        "id": "5gUsKNI-7zIH",
        "outputId": "a5f84d99-0745-4664-e689-3b120a164e46"
      },
      "execution_count": null,
      "outputs": [
        {
          "output_type": "execute_result",
          "data": {
            "text/plain": [
              "(-3.0, 2.0)"
            ]
          },
          "metadata": {},
          "execution_count": 117
        },
        {
          "output_type": "display_data",
          "data": {
            "text/plain": [
              "<Figure size 1000x600 with 1 Axes>"
            ],
            "image/png": "[encoded data removed]"
          },
          "metadata": {}
        }
      ]
    },
    {
      "cell_type": "code",
      "source": [],
      "metadata": {
        "id": "VVmlFaz88cSo"
      },
      "execution_count": null,
      "outputs": []
    }
  ]
}